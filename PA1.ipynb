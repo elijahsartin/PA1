{
 "cells": [
  {
   "cell_type": "markdown",
   "id": "1c798869",
   "metadata": {},
   "source": [
    "# Programming Assignment 1\n",
    "## Elijah Sartin\n",
    "## 0.1\n",
    "## Fall 2021 - Section 1"
   ]
  },
  {
   "cell_type": "code",
   "execution_count": 3,
   "id": "34d8154e",
   "metadata": {},
   "outputs": [
    {
     "name": "stdout",
     "output_type": "stream",
     "text": [
      "Enter a floating point number: 5.1\n",
      "Enter an integer: 7\n",
      "The sum is 12.1\n",
      "The difference is -1.9000000000000004\n",
      "The product is 35.699999999999996\n",
      "The quotient is 0.7285714285714285\n",
      "The type for the result is <class 'float'>\n"
     ]
    }
   ],
   "source": [
    "# read floating point number\n",
    "number1 = float(input('Enter a floating point number: '))\n",
    "\n",
    "# read second integer\n",
    "number2 = int(input('Enter an integer: '))\n",
    "\n",
    "# print the sum\n",
    "print('The sum is', number1+number2)\n",
    "\n",
    "# print the difference\n",
    "print('The difference is', number1-number2)\n",
    "\n",
    "# print the product\n",
    "print('The product is', number1*number2)\n",
    "\n",
    "# print the quotient\n",
    "print('The quotient is', number1/number2)\n",
    "\n",
    "# print the type of number1\n",
    "print('The type for the result is', type(number1))"
   ]
  },
  {
   "cell_type": "code",
   "execution_count": null,
   "id": "6cae37e3",
   "metadata": {},
   "outputs": [],
   "source": []
  }
 ],
 "metadata": {
  "kernelspec": {
   "display_name": "Python 3",
   "language": "python",
   "name": "python3"
  },
  "language_info": {
   "codemirror_mode": {
    "name": "ipython",
    "version": 3
   },
   "file_extension": ".py",
   "mimetype": "text/x-python",
   "name": "python",
   "nbconvert_exporter": "python",
   "pygments_lexer": "ipython3",
   "version": "3.8.8"
  }
 },
 "nbformat": 4,
 "nbformat_minor": 5
}
